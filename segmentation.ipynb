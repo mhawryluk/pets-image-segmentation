{
 "cells": [
  {
   "cell_type": "markdown",
   "metadata": {},
   "source": [
    "# Semantic Image Segmentation\n",
    "with the Oxford-IIIT Pet dataset\n",
    "\n",
    "M. Hawryluk, AGH 2023\n"
   ]
  },
  {
   "cell_type": "markdown",
   "metadata": {},
   "source": [
    "## Import modules"
   ]
  },
  {
   "cell_type": "code",
   "execution_count": 1,
   "metadata": {},
   "outputs": [
    {
     "ename": "ModuleNotFoundError",
     "evalue": "No module named 'tensorflow'",
     "output_type": "error",
     "traceback": [
      "\u001b[0;31m---------------------------------------------------------------------------\u001b[0m",
      "\u001b[0;31mModuleNotFoundError\u001b[0m                       Traceback (most recent call last)",
      "\u001b[1;32m/Users/marcin/Documents/studia/pets-image-segmentation/segmentation.ipynb Cell 3\u001b[0m line \u001b[0;36m1\n\u001b[0;32m----> <a href='vscode-notebook-cell:/Users/marcin/Documents/studia/pets-image-segmentation/segmentation.ipynb#W5sZmlsZQ%3D%3D?line=0'>1</a>\u001b[0m \u001b[39mimport\u001b[39;00m \u001b[39mtensorflow\u001b[39;00m \u001b[39mas\u001b[39;00m \u001b[39mtf\u001b[39;00m\n\u001b[1;32m      <a href='vscode-notebook-cell:/Users/marcin/Documents/studia/pets-image-segmentation/segmentation.ipynb#W5sZmlsZQ%3D%3D?line=1'>2</a>\u001b[0m \u001b[39mfrom\u001b[39;00m \u001b[39mtensorflow\u001b[39;00m \u001b[39mimport\u001b[39;00m keras\n\u001b[1;32m      <a href='vscode-notebook-cell:/Users/marcin/Documents/studia/pets-image-segmentation/segmentation.ipynb#W5sZmlsZQ%3D%3D?line=2'>3</a>\u001b[0m \u001b[39mfrom\u001b[39;00m \u001b[39mtensorflow\u001b[39;00m\u001b[39m.\u001b[39;00m\u001b[39mkeras\u001b[39;00m \u001b[39mimport\u001b[39;00m layers\n",
      "\u001b[0;31mModuleNotFoundError\u001b[0m: No module named 'tensorflow'"
     ]
    }
   ],
   "source": [
    "import tensorflow as tf\n",
    "from tensorflow import keras\n",
    "from tensorflow.keras import layers\n",
    "import tensorflow_datasets as tfds\n",
    "import matplotlib.pyplot as plt\n",
    "import numpy as np\n",
    "import os\n",
    "import tensorflow.keras.utils as utils\n",
    "import cv2\n",
    "from random import shuffle, seed"
   ]
  },
  {
   "cell_type": "markdown",
   "metadata": {},
   "source": [
    "## Data preprocessing"
   ]
  },
  {
   "cell_type": "code",
   "execution_count": 4,
   "metadata": {},
   "outputs": [],
   "source": [
    "IMAGE_WIDTH = 128\n",
    "IMAGE_HEIGHT = 128\n",
    "\n",
    "def resize(image):\n",
    "   return tf.image.resize(image, (IMAGE_WIDTH, IMAGE_HEIGHT), method=\"nearest\")"
   ]
  },
  {
   "cell_type": "code",
   "execution_count": 2,
   "metadata": {},
   "outputs": [
    {
     "ename": "NameError",
     "evalue": "name 'tfds' is not defined",
     "output_type": "error",
     "traceback": [
      "\u001b[0;31m---------------------------------------------------------------------------\u001b[0m",
      "\u001b[0;31mNameError\u001b[0m                                 Traceback (most recent call last)",
      "\u001b[1;32m/Users/marcin/Documents/studia/pets-image-segmentation/segmentation.ipynb Cell 5\u001b[0m line \u001b[0;36m1\n\u001b[0;32m----> <a href='vscode-notebook-cell:/Users/marcin/Documents/studia/pets-image-segmentation/segmentation.ipynb#W6sZmlsZQ%3D%3D?line=0'>1</a>\u001b[0m oxford_ds, oxford_info \u001b[39m=\u001b[39m tfds\u001b[39m.\u001b[39mload(\u001b[39m'\u001b[39m\u001b[39moxford_iiit_pet:3.*.*\u001b[39m\u001b[39m'\u001b[39m, with_info\u001b[39m=\u001b[39m\u001b[39mTrue\u001b[39;00m)\n",
      "\u001b[0;31mNameError\u001b[0m: name 'tfds' is not defined"
     ]
    }
   ],
   "source": [
    "oxford_ds, oxford_info = tfds.load('oxford_iiit_pet:3.*.*', with_info=True)"
   ]
  },
  {
   "cell_type": "code",
   "execution_count": 3,
   "metadata": {},
   "outputs": [],
   "source": [
    "def preprocess_data(data):\n",
    "   image = data[\"image\"]\n",
    "   mask = data[\"segmentation_mask\"]\n",
    "\n",
    "   image = resize(image)\n",
    "   mask = resize(mask)\n",
    "\n",
    "   image = tf.cast(image, tf.float32) / 255.0\n",
    "   mask -= 1\n",
    "\n",
    "   return image, mask"
   ]
  },
  {
   "cell_type": "code",
   "execution_count": 5,
   "metadata": {},
   "outputs": [
    {
     "ename": "NameError",
     "evalue": "name 'oxford_ds' is not defined",
     "output_type": "error",
     "traceback": [
      "\u001b[0;31m---------------------------------------------------------------------------\u001b[0m",
      "\u001b[0;31mNameError\u001b[0m                                 Traceback (most recent call last)",
      "\u001b[1;32m/Users/marcin/Documents/studia/pets-image-segmentation/segmentation.ipynb Cell 8\u001b[0m line \u001b[0;36m1\n\u001b[0;32m----> <a href='vscode-notebook-cell:/Users/marcin/Documents/studia/pets-image-segmentation/segmentation.ipynb#X13sZmlsZQ%3D%3D?line=0'>1</a>\u001b[0m ds_train \u001b[39m=\u001b[39m oxford_ds[\u001b[39m\"\u001b[39m\u001b[39mtrain\u001b[39m\u001b[39m\"\u001b[39m]\u001b[39m.\u001b[39mmap(preprocess_data)\n\u001b[1;32m      <a href='vscode-notebook-cell:/Users/marcin/Documents/studia/pets-image-segmentation/segmentation.ipynb#X13sZmlsZQ%3D%3D?line=1'>2</a>\u001b[0m ds_test \u001b[39m=\u001b[39m oxford_ds[\u001b[39m\"\u001b[39m\u001b[39mtest\u001b[39m\u001b[39m\"\u001b[39m]\u001b[39m.\u001b[39mmap(preprocess_data)\n",
      "\u001b[0;31mNameError\u001b[0m: name 'oxford_ds' is not defined"
     ]
    }
   ],
   "source": [
    "ds_train = oxford_ds[\"train\"].map(preprocess_data)\n",
    "ds_test = oxford_ds[\"test\"].map(preprocess_data)"
   ]
  },
  {
   "cell_type": "code",
   "execution_count": 6,
   "metadata": {},
   "outputs": [
    {
     "name": "stdout",
     "output_type": "stream",
     "text": [
      "image\n"
     ]
    },
    {
     "ename": "NameError",
     "evalue": "name 'ds_train' is not defined",
     "output_type": "error",
     "traceback": [
      "\u001b[0;31m---------------------------------------------------------------------------\u001b[0m",
      "\u001b[0;31mNameError\u001b[0m                                 Traceback (most recent call last)",
      "\u001b[1;32m/Users/marcin/Documents/studia/pets-image-segmentation/segmentation.ipynb Cell 9\u001b[0m line \u001b[0;36m2\n\u001b[1;32m      <a href='vscode-notebook-cell:/Users/marcin/Documents/studia/pets-image-segmentation/segmentation.ipynb#X15sZmlsZQ%3D%3D?line=0'>1</a>\u001b[0m \u001b[39mprint\u001b[39m(\u001b[39m\"\u001b[39m\u001b[39mimage\u001b[39m\u001b[39m\"\u001b[39m)\n\u001b[0;32m----> <a href='vscode-notebook-cell:/Users/marcin/Documents/studia/pets-image-segmentation/segmentation.ipynb#X15sZmlsZQ%3D%3D?line=1'>2</a>\u001b[0m \u001b[39mnext\u001b[39m(\u001b[39miter\u001b[39m(ds_train))[\u001b[39m0\u001b[39m]\n",
      "\u001b[0;31mNameError\u001b[0m: name 'ds_train' is not defined"
     ]
    }
   ],
   "source": [
    "print(\"image\")\n",
    "next(iter(ds_train))[0]"
   ]
  },
  {
   "cell_type": "code",
   "execution_count": null,
   "metadata": {},
   "outputs": [],
   "source": [
    "example_mask = next(iter(ds_train))[1].numpy()\n",
    "\n",
    "np.unique(example_mask)"
   ]
  },
  {
   "cell_type": "code",
   "execution_count": null,
   "metadata": {},
   "outputs": [],
   "source": [
    "batch_size = 64\n",
    "\n",
    "ds_train_batched = ds_train.cache().batch(batch_size).repeat()\n",
    "\n",
    "ds_val_batched = ds_test.take(3000).batch(batch_size)\n",
    "ds_test_batched = ds_test.skip(3000).batch(batch_size)"
   ]
  },
  {
   "cell_type": "code",
   "execution_count": null,
   "metadata": {},
   "outputs": [],
   "source": [
    "fig, ax = plt.subplots(1, 2, figsize=(10, 10))\n",
    "\n",
    "x, y = next(iter(ds_train))\n",
    "\n",
    "ax[0].axis('off')\n",
    "ax[1].axis('off')\n",
    "\n",
    "ax[0].imshow(x)\n",
    "ax[1].imshow(y)\n",
    "\n",
    "plt.show()"
   ]
  },
  {
   "cell_type": "markdown",
   "metadata": {},
   "source": [
    "## Neural segmentation model\n",
    "### Unet"
   ]
  },
  {
   "cell_type": "code",
   "execution_count": null,
   "metadata": {},
   "outputs": [],
   "source": [
    "def downsample_block(x, n_filters):\n",
    "   f = layers.Conv2D(n_filters, 3, padding=\"same\", activation=\"relu\")(x)\n",
    "   p = layers.MaxPool2D(2)(f)\n",
    "   p = layers.Dropout(0.3)(p)\n",
    "   return f, p\n",
    "\n",
    "def upsample_block(x, conv_features, n_filters):\n",
    "   x = layers.Conv2DTranspose(n_filters, 3, 2, padding=\"same\")(x)\n",
    "   x = layers.concatenate([x, conv_features])\n",
    "   x = layers.Dropout(0.3)(x)\n",
    "   x = layers.Conv2D(n_filters, 3, padding=\"same\", activation=\"relu\")(x)\n",
    "   return x\n",
    "\n",
    "def unet(num_classes=3):\n",
    "   inputs = layers.Input(shape=(IMAGE_WIDTH, IMAGE_HEIGHT, 3))\n",
    "\n",
    "   # encoder\n",
    "   f1, p1 = downsample_block(inputs, 64)\n",
    "   f2, p2 = downsample_block(p1, 128)\n",
    "   f3, p3 = downsample_block(p2, 256)\n",
    "   f4, p4 = downsample_block(p3, 512)\n",
    "   bottleneck = layers.Conv2D(1024, 3, padding = \"same\", activation = \"relu\")(p4)\n",
    "\n",
    "   # decoder\n",
    "   u6 = upsample_block(bottleneck, f4, 512)\n",
    "   u7 = upsample_block(u6, f3, 256)\n",
    "   u8 = upsample_block(u7, f2, 128)\n",
    "   u9 = upsample_block(u8, f1, 64)\n",
    "   outputs = layers.Conv2D(num_classes, 1, padding=\"same\", activation=\"softmax\")(u9)\n",
    "\n",
    "   unet = tf.keras.Model(inputs, outputs)\n",
    "   return unet"
   ]
  },
  {
   "cell_type": "code",
   "execution_count": null,
   "metadata": {},
   "outputs": [],
   "source": [
    "def get_mask(prediction):\n",
    " mask = tf.argmax(prediction, axis=-1)\n",
    " mask = mask[..., tf.newaxis]\n",
    " return mask[0]"
   ]
  },
  {
   "cell_type": "code",
   "execution_count": null,
   "metadata": {},
   "outputs": [],
   "source": [
    "model = unet()\n",
    "model.compile(\n",
    "    optimizer=tf.keras.optimizers.legacy.Adam(),\n",
    "    loss=\"sparse_categorical_crossentropy\",\n",
    "    metrics=\"accuracy\"\n",
    ")"
   ]
  },
  {
   "cell_type": "code",
   "execution_count": null,
   "metadata": {},
   "outputs": [],
   "source": [
    "epochs = 20\n",
    "\n",
    "model_history = model.fit(\n",
    "    ds_train_batched,\n",
    "    epochs=epochs,\n",
    "    steps_per_epoch=oxford_info.splits[\"train\"].num_examples // batch_size,\n",
    "    validation_steps=oxford_info.splits[\"test\"].num_examples // batch_size // 5,\n",
    "    validation_data=ds_val_batched\n",
    ")"
   ]
  },
  {
   "cell_type": "code",
   "execution_count": 7,
   "metadata": {},
   "outputs": [
    {
     "ename": "NameError",
     "evalue": "name 'model' is not defined",
     "output_type": "error",
     "traceback": [
      "\u001b[0;31m---------------------------------------------------------------------------\u001b[0m",
      "\u001b[0;31mNameError\u001b[0m                                 Traceback (most recent call last)",
      "\u001b[1;32m/Users/marcin/Documents/studia/pets-image-segmentation/segmentation.ipynb Cell 18\u001b[0m line \u001b[0;36m1\n\u001b[0;32m----> <a href='vscode-notebook-cell:/Users/marcin/Documents/studia/pets-image-segmentation/segmentation.ipynb#X30sZmlsZQ%3D%3D?line=0'>1</a>\u001b[0m predicted \u001b[39m=\u001b[39m model\u001b[39m.\u001b[39mpredict(ds_test_batched)\n",
      "\u001b[0;31mNameError\u001b[0m: name 'model' is not defined"
     ]
    }
   ],
   "source": [
    "predicted = model.predict(ds_test_batched)"
   ]
  },
  {
   "cell_type": "code",
   "execution_count": null,
   "metadata": {},
   "outputs": [],
   "source": [
    "fig, ax = plt.subplots(10, 3, figsize=(13, 30))\n",
    "\n",
    "for i, (x, y) in enumerate(ds_test.take(10)):\n",
    "  y_pred = get_mask(model.predict(tf.expand_dims(x, axis=0)))\n",
    "\n",
    "  ax[i][0].axis('off')\n",
    "  ax[i][1].axis('off')\n",
    "  ax[i][2].axis('off')\n",
    "\n",
    "  ax[i][0].imshow(x)\n",
    "  ax[i][1].imshow(y)\n",
    "  ax[i][2].imshow(y_pred)\n",
    "\n",
    "plt.show()"
   ]
  },
  {
   "cell_type": "code",
   "execution_count": null,
   "metadata": {},
   "outputs": [],
   "source": [
    "model.save('pets-1')"
   ]
  }
 ],
 "metadata": {
  "kernelspec": {
   "display_name": "Python 3",
   "language": "python",
   "name": "python3"
  },
  "language_info": {
   "codemirror_mode": {
    "name": "ipython",
    "version": 3
   },
   "file_extension": ".py",
   "mimetype": "text/x-python",
   "name": "python",
   "nbconvert_exporter": "python",
   "pygments_lexer": "ipython3",
   "version": "3.11.6"
  }
 },
 "nbformat": 4,
 "nbformat_minor": 2
}
